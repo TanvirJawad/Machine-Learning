{
  "cells": [
    {
      "cell_type": "markdown",
      "metadata": {
        "id": "OURiV1Pk7Y-c"
      },
      "source": [
        "## SVM Problem\n",
        "\n",
        "This exercise explores optimization of an SVM applied to a classification problem, the MINST digits."
      ]
    },
    {
      "cell_type": "code",
      "execution_count": 28,
      "metadata": {
        "id": "uGFy-OaE7Y-d"
      },
      "outputs": [],
      "source": [
        "# Python ≥3.5 is required\n",
        "import sys\n",
        "assert sys.version_info >= (3, 5)\n",
        "\n",
        "# Scikit-Learn ≥0.20 is required\n",
        "import sklearn\n",
        "assert sklearn.__version__ >= \"0.20\"\n",
        "\n",
        "# Common imports\n",
        "import numpy as np\n",
        "import os"
      ]
    },
    {
      "cell_type": "code",
      "execution_count": 29,
      "metadata": {
        "id": "Q4wbajcg7Y-d",
        "colab": {
          "base_uri": "https://localhost:8080/",
          "height": 17
        },
        "outputId": "67f24ee1-2a75-4ce3-f6d1-582e548fd649"
      },
      "outputs": [
        {
          "output_type": "display_data",
          "data": {
            "text/plain": [
              "<IPython.core.display.HTML object>"
            ],
            "text/html": [
              "<style type='text/css'>.CodeMirror{\n",
              "font-size: 18px;\n",
              "</style>\n"
            ]
          },
          "metadata": {}
        }
      ],
      "source": [
        "%%html\n",
        "<style type='text/css'>.CodeMirror{\n",
        "font-size: 18px;\n",
        "</style>"
      ]
    },
    {
      "cell_type": "code",
      "execution_count": 30,
      "metadata": {
        "id": "US0GnPo-7Y-d"
      },
      "outputs": [],
      "source": [
        "from sklearn.svm import LinearSVC\n",
        "from sklearn.svm import SVC"
      ]
    },
    {
      "cell_type": "markdown",
      "metadata": {
        "id": "96yVBtcw7Y-d"
      },
      "source": [
        "### Fetch the data\n",
        "The following code gets all of the data.  Set the train portion to the first 20000 and the test portion to the next 10000."
      ]
    },
    {
      "cell_type": "code",
      "execution_count": 31,
      "metadata": {
        "id": "Dtkl5ltI7Y-d",
        "colab": {
          "base_uri": "https://localhost:8080/"
        },
        "outputId": "5092c1ec-3c8f-49a1-c711-0585c4897a5f"
      },
      "outputs": [
        {
          "output_type": "stream",
          "name": "stderr",
          "text": [
            "/usr/local/lib/python3.10/dist-packages/sklearn/datasets/_openml.py:968: FutureWarning: The default value of `parser` will change from `'liac-arff'` to `'auto'` in 1.4. You can set `parser='auto'` to silence this warning. Therefore, an `ImportError` will be raised from 1.4 if the dataset is dense and pandas is not installed. Note that the pandas parser may return different data types. See the Notes Section in fetch_openml's API doc for details.\n",
            "  warn(\n"
          ]
        }
      ],
      "source": [
        "from sklearn.datasets import fetch_openml\n",
        "mnist = fetch_openml('mnist_784', version=1, cache=True)\n",
        "\n",
        "X = mnist[\"data\"]\n",
        "y = mnist[\"target\"].astype(np.uint8)\n",
        "\n",
        "X_train = X[:20000]\n",
        "y_train = y[:20000]\n",
        "X_test = X[20000:30000]\n",
        "y_test = y[20000:30000]"
      ]
    },
    {
      "cell_type": "markdown",
      "metadata": {
        "id": "cTdE5wqs7Y-d"
      },
      "source": [
        "### A first attempt\n",
        "\n",
        "Use LinearSVC (Linear Support Vector Classification.) to fit the data.  This is similar to SVC(kernel=\"linear\").  It tends to work better with larger data sets and uses a different solver library."
      ]
    },
    {
      "cell_type": "code",
      "execution_count": 32,
      "metadata": {
        "id": "iLnCaLFz7Y-d",
        "colab": {
          "base_uri": "https://localhost:8080/",
          "height": 108
        },
        "outputId": "267ff583-eb5c-4b0a-91bc-0c0c5f7f6b21"
      },
      "outputs": [
        {
          "output_type": "stream",
          "name": "stderr",
          "text": [
            "/usr/local/lib/python3.10/dist-packages/sklearn/svm/_base.py:1244: ConvergenceWarning: Liblinear failed to converge, increase the number of iterations.\n",
            "  warnings.warn(\n"
          ]
        },
        {
          "output_type": "execute_result",
          "data": {
            "text/plain": [
              "LinearSVC(random_state=1)"
            ],
            "text/html": [
              "<style>#sk-container-id-7 {color: black;background-color: white;}#sk-container-id-7 pre{padding: 0;}#sk-container-id-7 div.sk-toggleable {background-color: white;}#sk-container-id-7 label.sk-toggleable__label {cursor: pointer;display: block;width: 100%;margin-bottom: 0;padding: 0.3em;box-sizing: border-box;text-align: center;}#sk-container-id-7 label.sk-toggleable__label-arrow:before {content: \"▸\";float: left;margin-right: 0.25em;color: #696969;}#sk-container-id-7 label.sk-toggleable__label-arrow:hover:before {color: black;}#sk-container-id-7 div.sk-estimator:hover label.sk-toggleable__label-arrow:before {color: black;}#sk-container-id-7 div.sk-toggleable__content {max-height: 0;max-width: 0;overflow: hidden;text-align: left;background-color: #f0f8ff;}#sk-container-id-7 div.sk-toggleable__content pre {margin: 0.2em;color: black;border-radius: 0.25em;background-color: #f0f8ff;}#sk-container-id-7 input.sk-toggleable__control:checked~div.sk-toggleable__content {max-height: 200px;max-width: 100%;overflow: auto;}#sk-container-id-7 input.sk-toggleable__control:checked~label.sk-toggleable__label-arrow:before {content: \"▾\";}#sk-container-id-7 div.sk-estimator input.sk-toggleable__control:checked~label.sk-toggleable__label {background-color: #d4ebff;}#sk-container-id-7 div.sk-label input.sk-toggleable__control:checked~label.sk-toggleable__label {background-color: #d4ebff;}#sk-container-id-7 input.sk-hidden--visually {border: 0;clip: rect(1px 1px 1px 1px);clip: rect(1px, 1px, 1px, 1px);height: 1px;margin: -1px;overflow: hidden;padding: 0;position: absolute;width: 1px;}#sk-container-id-7 div.sk-estimator {font-family: monospace;background-color: #f0f8ff;border: 1px dotted black;border-radius: 0.25em;box-sizing: border-box;margin-bottom: 0.5em;}#sk-container-id-7 div.sk-estimator:hover {background-color: #d4ebff;}#sk-container-id-7 div.sk-parallel-item::after {content: \"\";width: 100%;border-bottom: 1px solid gray;flex-grow: 1;}#sk-container-id-7 div.sk-label:hover label.sk-toggleable__label {background-color: #d4ebff;}#sk-container-id-7 div.sk-serial::before {content: \"\";position: absolute;border-left: 1px solid gray;box-sizing: border-box;top: 0;bottom: 0;left: 50%;z-index: 0;}#sk-container-id-7 div.sk-serial {display: flex;flex-direction: column;align-items: center;background-color: white;padding-right: 0.2em;padding-left: 0.2em;position: relative;}#sk-container-id-7 div.sk-item {position: relative;z-index: 1;}#sk-container-id-7 div.sk-parallel {display: flex;align-items: stretch;justify-content: center;background-color: white;position: relative;}#sk-container-id-7 div.sk-item::before, #sk-container-id-7 div.sk-parallel-item::before {content: \"\";position: absolute;border-left: 1px solid gray;box-sizing: border-box;top: 0;bottom: 0;left: 50%;z-index: -1;}#sk-container-id-7 div.sk-parallel-item {display: flex;flex-direction: column;z-index: 1;position: relative;background-color: white;}#sk-container-id-7 div.sk-parallel-item:first-child::after {align-self: flex-end;width: 50%;}#sk-container-id-7 div.sk-parallel-item:last-child::after {align-self: flex-start;width: 50%;}#sk-container-id-7 div.sk-parallel-item:only-child::after {width: 0;}#sk-container-id-7 div.sk-dashed-wrapped {border: 1px dashed gray;margin: 0 0.4em 0.5em 0.4em;box-sizing: border-box;padding-bottom: 0.4em;background-color: white;}#sk-container-id-7 div.sk-label label {font-family: monospace;font-weight: bold;display: inline-block;line-height: 1.2em;}#sk-container-id-7 div.sk-label-container {text-align: center;}#sk-container-id-7 div.sk-container {/* jupyter's `normalize.less` sets `[hidden] { display: none; }` but bootstrap.min.css set `[hidden] { display: none !important; }` so we also need the `!important` here to be able to override the default hidden behavior on the sphinx rendered scikit-learn.org. See: https://github.com/scikit-learn/scikit-learn/issues/21755 */display: inline-block !important;position: relative;}#sk-container-id-7 div.sk-text-repr-fallback {display: none;}</style><div id=\"sk-container-id-7\" class=\"sk-top-container\"><div class=\"sk-text-repr-fallback\"><pre>LinearSVC(random_state=1)</pre><b>In a Jupyter environment, please rerun this cell to show the HTML representation or trust the notebook. <br />On GitHub, the HTML representation is unable to render, please try loading this page with nbviewer.org.</b></div><div class=\"sk-container\" hidden><div class=\"sk-item\"><div class=\"sk-estimator sk-toggleable\"><input class=\"sk-toggleable__control sk-hidden--visually\" id=\"sk-estimator-id-9\" type=\"checkbox\" checked><label for=\"sk-estimator-id-9\" class=\"sk-toggleable__label sk-toggleable__label-arrow\">LinearSVC</label><div class=\"sk-toggleable__content\"><pre>LinearSVC(random_state=1)</pre></div></div></div></div></div>"
            ]
          },
          "metadata": {},
          "execution_count": 32
        }
      ],
      "source": [
        "lin_clf = LinearSVC(random_state=1)\n",
        "lin_clf.fit(X_train, y_train)"
      ]
    },
    {
      "cell_type": "markdown",
      "metadata": {
        "id": "PtLURav07Y-e"
      },
      "source": [
        "Measure the accuracy of a prediction on your training data.  Your not done tweaking the model, so don't yet evaluate your testing data."
      ]
    },
    {
      "cell_type": "code",
      "execution_count": 33,
      "metadata": {
        "id": "z7ZQWxjE7Y-e",
        "colab": {
          "base_uri": "https://localhost:8080/"
        },
        "outputId": "1db84613-0d54-462e-f17c-02909d008a38"
      },
      "outputs": [
        {
          "output_type": "execute_result",
          "data": {
            "text/plain": [
              "0.9125"
            ]
          },
          "metadata": {},
          "execution_count": 33
        }
      ],
      "source": [
        "from sklearn.metrics import accuracy_score\n",
        "\n",
        "y_pred = lin_clf.predict(X_train)\n",
        "accuracy_score(y_train, y_pred)\n"
      ]
    },
    {
      "cell_type": "markdown",
      "metadata": {
        "id": "0Mxxlc9y7Y-e"
      },
      "source": [
        "### Scale your data using StandardScaler.\n",
        "\n",
        "Be sure to scale both the train and test data.  Then rerun and evaluate the same linear model as above.  Keep random_state the same!"
      ]
    },
    {
      "cell_type": "code",
      "execution_count": 34,
      "metadata": {
        "id": "6COMz-gx7Y-e"
      },
      "outputs": [],
      "source": [
        "from sklearn.preprocessing import StandardScaler\n",
        "#TODO\n",
        "scaler = StandardScaler()\n",
        "\n",
        "X_train_scaled = scaler.fit_transform(X_train)\n",
        "X_test_scaled = scaler.transform(X_test)"
      ]
    },
    {
      "cell_type": "code",
      "execution_count": 35,
      "metadata": {
        "id": "nrknTdYr7Y-e",
        "colab": {
          "base_uri": "https://localhost:8080/",
          "height": 108
        },
        "outputId": "25f33d42-a4d7-465d-bf41-e69cc4fc492a"
      },
      "outputs": [
        {
          "output_type": "stream",
          "name": "stderr",
          "text": [
            "/usr/local/lib/python3.10/dist-packages/sklearn/svm/_base.py:1244: ConvergenceWarning: Liblinear failed to converge, increase the number of iterations.\n",
            "  warnings.warn(\n"
          ]
        },
        {
          "output_type": "execute_result",
          "data": {
            "text/plain": [
              "LinearSVC(random_state=1)"
            ],
            "text/html": [
              "<style>#sk-container-id-8 {color: black;background-color: white;}#sk-container-id-8 pre{padding: 0;}#sk-container-id-8 div.sk-toggleable {background-color: white;}#sk-container-id-8 label.sk-toggleable__label {cursor: pointer;display: block;width: 100%;margin-bottom: 0;padding: 0.3em;box-sizing: border-box;text-align: center;}#sk-container-id-8 label.sk-toggleable__label-arrow:before {content: \"▸\";float: left;margin-right: 0.25em;color: #696969;}#sk-container-id-8 label.sk-toggleable__label-arrow:hover:before {color: black;}#sk-container-id-8 div.sk-estimator:hover label.sk-toggleable__label-arrow:before {color: black;}#sk-container-id-8 div.sk-toggleable__content {max-height: 0;max-width: 0;overflow: hidden;text-align: left;background-color: #f0f8ff;}#sk-container-id-8 div.sk-toggleable__content pre {margin: 0.2em;color: black;border-radius: 0.25em;background-color: #f0f8ff;}#sk-container-id-8 input.sk-toggleable__control:checked~div.sk-toggleable__content {max-height: 200px;max-width: 100%;overflow: auto;}#sk-container-id-8 input.sk-toggleable__control:checked~label.sk-toggleable__label-arrow:before {content: \"▾\";}#sk-container-id-8 div.sk-estimator input.sk-toggleable__control:checked~label.sk-toggleable__label {background-color: #d4ebff;}#sk-container-id-8 div.sk-label input.sk-toggleable__control:checked~label.sk-toggleable__label {background-color: #d4ebff;}#sk-container-id-8 input.sk-hidden--visually {border: 0;clip: rect(1px 1px 1px 1px);clip: rect(1px, 1px, 1px, 1px);height: 1px;margin: -1px;overflow: hidden;padding: 0;position: absolute;width: 1px;}#sk-container-id-8 div.sk-estimator {font-family: monospace;background-color: #f0f8ff;border: 1px dotted black;border-radius: 0.25em;box-sizing: border-box;margin-bottom: 0.5em;}#sk-container-id-8 div.sk-estimator:hover {background-color: #d4ebff;}#sk-container-id-8 div.sk-parallel-item::after {content: \"\";width: 100%;border-bottom: 1px solid gray;flex-grow: 1;}#sk-container-id-8 div.sk-label:hover label.sk-toggleable__label {background-color: #d4ebff;}#sk-container-id-8 div.sk-serial::before {content: \"\";position: absolute;border-left: 1px solid gray;box-sizing: border-box;top: 0;bottom: 0;left: 50%;z-index: 0;}#sk-container-id-8 div.sk-serial {display: flex;flex-direction: column;align-items: center;background-color: white;padding-right: 0.2em;padding-left: 0.2em;position: relative;}#sk-container-id-8 div.sk-item {position: relative;z-index: 1;}#sk-container-id-8 div.sk-parallel {display: flex;align-items: stretch;justify-content: center;background-color: white;position: relative;}#sk-container-id-8 div.sk-item::before, #sk-container-id-8 div.sk-parallel-item::before {content: \"\";position: absolute;border-left: 1px solid gray;box-sizing: border-box;top: 0;bottom: 0;left: 50%;z-index: -1;}#sk-container-id-8 div.sk-parallel-item {display: flex;flex-direction: column;z-index: 1;position: relative;background-color: white;}#sk-container-id-8 div.sk-parallel-item:first-child::after {align-self: flex-end;width: 50%;}#sk-container-id-8 div.sk-parallel-item:last-child::after {align-self: flex-start;width: 50%;}#sk-container-id-8 div.sk-parallel-item:only-child::after {width: 0;}#sk-container-id-8 div.sk-dashed-wrapped {border: 1px dashed gray;margin: 0 0.4em 0.5em 0.4em;box-sizing: border-box;padding-bottom: 0.4em;background-color: white;}#sk-container-id-8 div.sk-label label {font-family: monospace;font-weight: bold;display: inline-block;line-height: 1.2em;}#sk-container-id-8 div.sk-label-container {text-align: center;}#sk-container-id-8 div.sk-container {/* jupyter's `normalize.less` sets `[hidden] { display: none; }` but bootstrap.min.css set `[hidden] { display: none !important; }` so we also need the `!important` here to be able to override the default hidden behavior on the sphinx rendered scikit-learn.org. See: https://github.com/scikit-learn/scikit-learn/issues/21755 */display: inline-block !important;position: relative;}#sk-container-id-8 div.sk-text-repr-fallback {display: none;}</style><div id=\"sk-container-id-8\" class=\"sk-top-container\"><div class=\"sk-text-repr-fallback\"><pre>LinearSVC(random_state=1)</pre><b>In a Jupyter environment, please rerun this cell to show the HTML representation or trust the notebook. <br />On GitHub, the HTML representation is unable to render, please try loading this page with nbviewer.org.</b></div><div class=\"sk-container\" hidden><div class=\"sk-item\"><div class=\"sk-estimator sk-toggleable\"><input class=\"sk-toggleable__control sk-hidden--visually\" id=\"sk-estimator-id-10\" type=\"checkbox\" checked><label for=\"sk-estimator-id-10\" class=\"sk-toggleable__label sk-toggleable__label-arrow\">LinearSVC</label><div class=\"sk-toggleable__content\"><pre>LinearSVC(random_state=1)</pre></div></div></div></div></div>"
            ]
          },
          "metadata": {},
          "execution_count": 35
        }
      ],
      "source": [
        "lin_clf = LinearSVC(random_state=1)\n",
        "lin_clf.fit(X_train_scaled, y_train)"
      ]
    },
    {
      "cell_type": "code",
      "execution_count": 36,
      "metadata": {
        "id": "aaK5yF9q7Y-e",
        "colab": {
          "base_uri": "https://localhost:8080/"
        },
        "outputId": "3305b6ee-0b26-43b2-d9a2-122e3f41108c"
      },
      "outputs": [
        {
          "output_type": "execute_result",
          "data": {
            "text/plain": [
              "0.945"
            ]
          },
          "metadata": {},
          "execution_count": 36
        }
      ],
      "source": [
        "y_pred = lin_clf.predict(X_train_scaled)\n",
        "accuracy_score(y_train, y_pred)"
      ]
    },
    {
      "cell_type": "markdown",
      "metadata": {
        "id": "UQO3ZsVY7Y-e"
      },
      "source": [
        "### Did scaling matter much?\n",
        "\n",
        "### Try fitting a non-linear SVM\n",
        "\n",
        "Using only the first 1000 items in your scaled training data, try a generic SVM (Scikit's SVC).  You can use all the defaults here.  Check your accuracy using *all* of the scaled training data."
      ]
    },
    {
      "cell_type": "code",
      "execution_count": 37,
      "metadata": {
        "id": "hMh3HZYw7Y-e",
        "colab": {
          "base_uri": "https://localhost:8080/",
          "height": 74
        },
        "outputId": "bc69569d-14dd-4db7-d771-fd9cc6846be4"
      },
      "outputs": [
        {
          "output_type": "execute_result",
          "data": {
            "text/plain": [
              "SVC()"
            ],
            "text/html": [
              "<style>#sk-container-id-9 {color: black;background-color: white;}#sk-container-id-9 pre{padding: 0;}#sk-container-id-9 div.sk-toggleable {background-color: white;}#sk-container-id-9 label.sk-toggleable__label {cursor: pointer;display: block;width: 100%;margin-bottom: 0;padding: 0.3em;box-sizing: border-box;text-align: center;}#sk-container-id-9 label.sk-toggleable__label-arrow:before {content: \"▸\";float: left;margin-right: 0.25em;color: #696969;}#sk-container-id-9 label.sk-toggleable__label-arrow:hover:before {color: black;}#sk-container-id-9 div.sk-estimator:hover label.sk-toggleable__label-arrow:before {color: black;}#sk-container-id-9 div.sk-toggleable__content {max-height: 0;max-width: 0;overflow: hidden;text-align: left;background-color: #f0f8ff;}#sk-container-id-9 div.sk-toggleable__content pre {margin: 0.2em;color: black;border-radius: 0.25em;background-color: #f0f8ff;}#sk-container-id-9 input.sk-toggleable__control:checked~div.sk-toggleable__content {max-height: 200px;max-width: 100%;overflow: auto;}#sk-container-id-9 input.sk-toggleable__control:checked~label.sk-toggleable__label-arrow:before {content: \"▾\";}#sk-container-id-9 div.sk-estimator input.sk-toggleable__control:checked~label.sk-toggleable__label {background-color: #d4ebff;}#sk-container-id-9 div.sk-label input.sk-toggleable__control:checked~label.sk-toggleable__label {background-color: #d4ebff;}#sk-container-id-9 input.sk-hidden--visually {border: 0;clip: rect(1px 1px 1px 1px);clip: rect(1px, 1px, 1px, 1px);height: 1px;margin: -1px;overflow: hidden;padding: 0;position: absolute;width: 1px;}#sk-container-id-9 div.sk-estimator {font-family: monospace;background-color: #f0f8ff;border: 1px dotted black;border-radius: 0.25em;box-sizing: border-box;margin-bottom: 0.5em;}#sk-container-id-9 div.sk-estimator:hover {background-color: #d4ebff;}#sk-container-id-9 div.sk-parallel-item::after {content: \"\";width: 100%;border-bottom: 1px solid gray;flex-grow: 1;}#sk-container-id-9 div.sk-label:hover label.sk-toggleable__label {background-color: #d4ebff;}#sk-container-id-9 div.sk-serial::before {content: \"\";position: absolute;border-left: 1px solid gray;box-sizing: border-box;top: 0;bottom: 0;left: 50%;z-index: 0;}#sk-container-id-9 div.sk-serial {display: flex;flex-direction: column;align-items: center;background-color: white;padding-right: 0.2em;padding-left: 0.2em;position: relative;}#sk-container-id-9 div.sk-item {position: relative;z-index: 1;}#sk-container-id-9 div.sk-parallel {display: flex;align-items: stretch;justify-content: center;background-color: white;position: relative;}#sk-container-id-9 div.sk-item::before, #sk-container-id-9 div.sk-parallel-item::before {content: \"\";position: absolute;border-left: 1px solid gray;box-sizing: border-box;top: 0;bottom: 0;left: 50%;z-index: -1;}#sk-container-id-9 div.sk-parallel-item {display: flex;flex-direction: column;z-index: 1;position: relative;background-color: white;}#sk-container-id-9 div.sk-parallel-item:first-child::after {align-self: flex-end;width: 50%;}#sk-container-id-9 div.sk-parallel-item:last-child::after {align-self: flex-start;width: 50%;}#sk-container-id-9 div.sk-parallel-item:only-child::after {width: 0;}#sk-container-id-9 div.sk-dashed-wrapped {border: 1px dashed gray;margin: 0 0.4em 0.5em 0.4em;box-sizing: border-box;padding-bottom: 0.4em;background-color: white;}#sk-container-id-9 div.sk-label label {font-family: monospace;font-weight: bold;display: inline-block;line-height: 1.2em;}#sk-container-id-9 div.sk-label-container {text-align: center;}#sk-container-id-9 div.sk-container {/* jupyter's `normalize.less` sets `[hidden] { display: none; }` but bootstrap.min.css set `[hidden] { display: none !important; }` so we also need the `!important` here to be able to override the default hidden behavior on the sphinx rendered scikit-learn.org. See: https://github.com/scikit-learn/scikit-learn/issues/21755 */display: inline-block !important;position: relative;}#sk-container-id-9 div.sk-text-repr-fallback {display: none;}</style><div id=\"sk-container-id-9\" class=\"sk-top-container\"><div class=\"sk-text-repr-fallback\"><pre>SVC()</pre><b>In a Jupyter environment, please rerun this cell to show the HTML representation or trust the notebook. <br />On GitHub, the HTML representation is unable to render, please try loading this page with nbviewer.org.</b></div><div class=\"sk-container\" hidden><div class=\"sk-item\"><div class=\"sk-estimator sk-toggleable\"><input class=\"sk-toggleable__control sk-hidden--visually\" id=\"sk-estimator-id-11\" type=\"checkbox\" checked><label for=\"sk-estimator-id-11\" class=\"sk-toggleable__label sk-toggleable__label-arrow\">SVC</label><div class=\"sk-toggleable__content\"><pre>SVC()</pre></div></div></div></div></div>"
            ]
          },
          "metadata": {},
          "execution_count": 37
        }
      ],
      "source": [
        "svm_clf = SVC(gamma=\"scale\")\n",
        "svm_clf.fit(X_train_scaled[:1000], y_train[:1000])"
      ]
    },
    {
      "cell_type": "code",
      "execution_count": 38,
      "metadata": {
        "id": "D0jf816W7Y-e",
        "colab": {
          "base_uri": "https://localhost:8080/"
        },
        "outputId": "d09256fe-d2fe-4f9b-8d26-2dfc1eac0464"
      },
      "outputs": [
        {
          "output_type": "execute_result",
          "data": {
            "text/plain": [
              "0.8673"
            ]
          },
          "metadata": {},
          "execution_count": 38
        }
      ],
      "source": [
        "y_pred = svm_clf.predict(X_train_scaled)\n",
        "accuracy_score(y_train, y_pred)"
      ]
    },
    {
      "cell_type": "markdown",
      "metadata": {
        "id": "g9y3LS-t7Y-e"
      },
      "source": [
        "### Results?\n",
        "\n",
        "How did well did you do?\n",
        "\n",
        "You probably want to do better.  The right approach is to search in the parameter space of\n",
        "* C, the regularizer.  With larger values it favors harder classification.\n",
        "* gamma, a kernel coefficient for the kernel type chosen\n",
        "* the kernel: rbf, polynomial, linear, sigmoid\n",
        "\n",
        "To set up a grid search examine the GridSearchCV documentation.   You will want to start with a grid with widely spaced values (3-4 of them).  When you find an optimal value, refine the grid and search again.\n",
        "\n",
        "Continue training on only 1000 data points, just to speed things up."
      ]
    },
    {
      "cell_type": "code",
      "source": [
        "from sklearn.model_selection import GridSearchCV\n",
        "\n",
        "param_grid = [ {'C': [4, 5, 6],\n",
        "    'gamma': [0.00049, 0.0005, 0.00051],\n",
        "    'kernel': ['rbf', 'poly', 'linear', 'sigmoid'] }]\n",
        "grid_cv = GridSearchCV(estimator=svm_clf,param_grid=param_grid,verbose=2)\n",
        "grid_cv.fit(X_train_scaled[:1000], y_train[:1000])"
      ],
      "metadata": {
        "colab": {
          "base_uri": "https://localhost:8080/",
          "height": 1000
        },
        "id": "SCCZJ7O7fYV5",
        "outputId": "bd8bb4f8-7176-4587-ae3c-2f80a82bc028"
      },
      "execution_count": 70,
      "outputs": [
        {
          "output_type": "stream",
          "name": "stdout",
          "text": [
            "Fitting 5 folds for each of 36 candidates, totalling 180 fits\n",
            "[CV] END .....................C=4, gamma=0.00049, kernel=rbf; total time=   0.2s\n",
            "[CV] END .....................C=4, gamma=0.00049, kernel=rbf; total time=   0.2s\n",
            "[CV] END .....................C=4, gamma=0.00049, kernel=rbf; total time=   0.2s\n",
            "[CV] END .....................C=4, gamma=0.00049, kernel=rbf; total time=   0.2s\n",
            "[CV] END .....................C=4, gamma=0.00049, kernel=rbf; total time=   0.2s\n",
            "[CV] END ....................C=4, gamma=0.00049, kernel=poly; total time=   0.3s\n",
            "[CV] END ....................C=4, gamma=0.00049, kernel=poly; total time=   0.3s\n",
            "[CV] END ....................C=4, gamma=0.00049, kernel=poly; total time=   0.3s\n",
            "[CV] END ....................C=4, gamma=0.00049, kernel=poly; total time=   0.3s\n",
            "[CV] END ....................C=4, gamma=0.00049, kernel=poly; total time=   0.4s\n",
            "[CV] END ..................C=4, gamma=0.00049, kernel=linear; total time=   0.2s\n",
            "[CV] END ..................C=4, gamma=0.00049, kernel=linear; total time=   0.2s\n",
            "[CV] END ..................C=4, gamma=0.00049, kernel=linear; total time=   0.2s\n",
            "[CV] END ..................C=4, gamma=0.00049, kernel=linear; total time=   0.2s\n",
            "[CV] END ..................C=4, gamma=0.00049, kernel=linear; total time=   0.2s\n",
            "[CV] END .................C=4, gamma=0.00049, kernel=sigmoid; total time=   0.2s\n",
            "[CV] END .................C=4, gamma=0.00049, kernel=sigmoid; total time=   0.2s\n",
            "[CV] END .................C=4, gamma=0.00049, kernel=sigmoid; total time=   0.2s\n",
            "[CV] END .................C=4, gamma=0.00049, kernel=sigmoid; total time=   0.2s\n",
            "[CV] END .................C=4, gamma=0.00049, kernel=sigmoid; total time=   0.2s\n",
            "[CV] END ......................C=4, gamma=0.0005, kernel=rbf; total time=   0.2s\n",
            "[CV] END ......................C=4, gamma=0.0005, kernel=rbf; total time=   0.2s\n",
            "[CV] END ......................C=4, gamma=0.0005, kernel=rbf; total time=   0.2s\n",
            "[CV] END ......................C=4, gamma=0.0005, kernel=rbf; total time=   0.2s\n",
            "[CV] END ......................C=4, gamma=0.0005, kernel=rbf; total time=   0.2s\n",
            "[CV] END .....................C=4, gamma=0.0005, kernel=poly; total time=   0.3s\n",
            "[CV] END .....................C=4, gamma=0.0005, kernel=poly; total time=   0.3s\n",
            "[CV] END .....................C=4, gamma=0.0005, kernel=poly; total time=   0.3s\n",
            "[CV] END .....................C=4, gamma=0.0005, kernel=poly; total time=   0.3s\n",
            "[CV] END .....................C=4, gamma=0.0005, kernel=poly; total time=   0.3s\n",
            "[CV] END ...................C=4, gamma=0.0005, kernel=linear; total time=   0.1s\n",
            "[CV] END ...................C=4, gamma=0.0005, kernel=linear; total time=   0.1s\n",
            "[CV] END ...................C=4, gamma=0.0005, kernel=linear; total time=   0.1s\n",
            "[CV] END ...................C=4, gamma=0.0005, kernel=linear; total time=   0.1s\n",
            "[CV] END ...................C=4, gamma=0.0005, kernel=linear; total time=   0.1s\n",
            "[CV] END ..................C=4, gamma=0.0005, kernel=sigmoid; total time=   0.2s\n",
            "[CV] END ..................C=4, gamma=0.0005, kernel=sigmoid; total time=   0.2s\n",
            "[CV] END ..................C=4, gamma=0.0005, kernel=sigmoid; total time=   0.2s\n",
            "[CV] END ..................C=4, gamma=0.0005, kernel=sigmoid; total time=   0.2s\n",
            "[CV] END ..................C=4, gamma=0.0005, kernel=sigmoid; total time=   0.2s\n",
            "[CV] END .....................C=4, gamma=0.00051, kernel=rbf; total time=   0.2s\n",
            "[CV] END .....................C=4, gamma=0.00051, kernel=rbf; total time=   0.2s\n",
            "[CV] END .....................C=4, gamma=0.00051, kernel=rbf; total time=   0.2s\n",
            "[CV] END .....................C=4, gamma=0.00051, kernel=rbf; total time=   0.2s\n",
            "[CV] END .....................C=4, gamma=0.00051, kernel=rbf; total time=   0.2s\n",
            "[CV] END ....................C=4, gamma=0.00051, kernel=poly; total time=   0.3s\n",
            "[CV] END ....................C=4, gamma=0.00051, kernel=poly; total time=   0.3s\n",
            "[CV] END ....................C=4, gamma=0.00051, kernel=poly; total time=   0.3s\n",
            "[CV] END ....................C=4, gamma=0.00051, kernel=poly; total time=   0.3s\n",
            "[CV] END ....................C=4, gamma=0.00051, kernel=poly; total time=   0.3s\n",
            "[CV] END ..................C=4, gamma=0.00051, kernel=linear; total time=   0.1s\n",
            "[CV] END ..................C=4, gamma=0.00051, kernel=linear; total time=   0.1s\n",
            "[CV] END ..................C=4, gamma=0.00051, kernel=linear; total time=   0.1s\n",
            "[CV] END ..................C=4, gamma=0.00051, kernel=linear; total time=   0.1s\n",
            "[CV] END ..................C=4, gamma=0.00051, kernel=linear; total time=   0.1s\n",
            "[CV] END .................C=4, gamma=0.00051, kernel=sigmoid; total time=   0.2s\n",
            "[CV] END .................C=4, gamma=0.00051, kernel=sigmoid; total time=   0.2s\n",
            "[CV] END .................C=4, gamma=0.00051, kernel=sigmoid; total time=   0.2s\n",
            "[CV] END .................C=4, gamma=0.00051, kernel=sigmoid; total time=   0.2s\n",
            "[CV] END .................C=4, gamma=0.00051, kernel=sigmoid; total time=   0.2s\n",
            "[CV] END .....................C=5, gamma=0.00049, kernel=rbf; total time=   0.2s\n",
            "[CV] END .....................C=5, gamma=0.00049, kernel=rbf; total time=   0.2s\n",
            "[CV] END .....................C=5, gamma=0.00049, kernel=rbf; total time=   0.2s\n",
            "[CV] END .....................C=5, gamma=0.00049, kernel=rbf; total time=   0.2s\n",
            "[CV] END .....................C=5, gamma=0.00049, kernel=rbf; total time=   0.2s\n",
            "[CV] END ....................C=5, gamma=0.00049, kernel=poly; total time=   0.3s\n",
            "[CV] END ....................C=5, gamma=0.00049, kernel=poly; total time=   0.3s\n",
            "[CV] END ....................C=5, gamma=0.00049, kernel=poly; total time=   0.4s\n",
            "[CV] END ....................C=5, gamma=0.00049, kernel=poly; total time=   0.4s\n",
            "[CV] END ....................C=5, gamma=0.00049, kernel=poly; total time=   0.4s\n",
            "[CV] END ..................C=5, gamma=0.00049, kernel=linear; total time=   0.2s\n",
            "[CV] END ..................C=5, gamma=0.00049, kernel=linear; total time=   0.2s\n",
            "[CV] END ..................C=5, gamma=0.00049, kernel=linear; total time=   0.2s\n",
            "[CV] END ..................C=5, gamma=0.00049, kernel=linear; total time=   0.2s\n",
            "[CV] END ..................C=5, gamma=0.00049, kernel=linear; total time=   0.2s\n",
            "[CV] END .................C=5, gamma=0.00049, kernel=sigmoid; total time=   0.2s\n",
            "[CV] END .................C=5, gamma=0.00049, kernel=sigmoid; total time=   0.2s\n",
            "[CV] END .................C=5, gamma=0.00049, kernel=sigmoid; total time=   0.2s\n",
            "[CV] END .................C=5, gamma=0.00049, kernel=sigmoid; total time=   0.2s\n",
            "[CV] END .................C=5, gamma=0.00049, kernel=sigmoid; total time=   0.2s\n",
            "[CV] END ......................C=5, gamma=0.0005, kernel=rbf; total time=   0.2s\n",
            "[CV] END ......................C=5, gamma=0.0005, kernel=rbf; total time=   0.2s\n",
            "[CV] END ......................C=5, gamma=0.0005, kernel=rbf; total time=   0.2s\n",
            "[CV] END ......................C=5, gamma=0.0005, kernel=rbf; total time=   0.2s\n",
            "[CV] END ......................C=5, gamma=0.0005, kernel=rbf; total time=   0.2s\n",
            "[CV] END .....................C=5, gamma=0.0005, kernel=poly; total time=   0.3s\n",
            "[CV] END .....................C=5, gamma=0.0005, kernel=poly; total time=   0.3s\n",
            "[CV] END .....................C=5, gamma=0.0005, kernel=poly; total time=   0.3s\n",
            "[CV] END .....................C=5, gamma=0.0005, kernel=poly; total time=   0.3s\n",
            "[CV] END .....................C=5, gamma=0.0005, kernel=poly; total time=   0.3s\n",
            "[CV] END ...................C=5, gamma=0.0005, kernel=linear; total time=   0.1s\n",
            "[CV] END ...................C=5, gamma=0.0005, kernel=linear; total time=   0.1s\n",
            "[CV] END ...................C=5, gamma=0.0005, kernel=linear; total time=   0.1s\n",
            "[CV] END ...................C=5, gamma=0.0005, kernel=linear; total time=   0.1s\n",
            "[CV] END ...................C=5, gamma=0.0005, kernel=linear; total time=   0.1s\n",
            "[CV] END ..................C=5, gamma=0.0005, kernel=sigmoid; total time=   0.2s\n",
            "[CV] END ..................C=5, gamma=0.0005, kernel=sigmoid; total time=   0.2s\n",
            "[CV] END ..................C=5, gamma=0.0005, kernel=sigmoid; total time=   0.2s\n",
            "[CV] END ..................C=5, gamma=0.0005, kernel=sigmoid; total time=   0.2s\n",
            "[CV] END ..................C=5, gamma=0.0005, kernel=sigmoid; total time=   0.2s\n",
            "[CV] END .....................C=5, gamma=0.00051, kernel=rbf; total time=   0.2s\n",
            "[CV] END .....................C=5, gamma=0.00051, kernel=rbf; total time=   0.2s\n",
            "[CV] END .....................C=5, gamma=0.00051, kernel=rbf; total time=   0.2s\n",
            "[CV] END .....................C=5, gamma=0.00051, kernel=rbf; total time=   0.2s\n",
            "[CV] END .....................C=5, gamma=0.00051, kernel=rbf; total time=   0.2s\n",
            "[CV] END ....................C=5, gamma=0.00051, kernel=poly; total time=   0.3s\n",
            "[CV] END ....................C=5, gamma=0.00051, kernel=poly; total time=   0.3s\n",
            "[CV] END ....................C=5, gamma=0.00051, kernel=poly; total time=   0.3s\n",
            "[CV] END ....................C=5, gamma=0.00051, kernel=poly; total time=   0.3s\n",
            "[CV] END ....................C=5, gamma=0.00051, kernel=poly; total time=   0.3s\n",
            "[CV] END ..................C=5, gamma=0.00051, kernel=linear; total time=   0.1s\n",
            "[CV] END ..................C=5, gamma=0.00051, kernel=linear; total time=   0.1s\n",
            "[CV] END ..................C=5, gamma=0.00051, kernel=linear; total time=   0.1s\n",
            "[CV] END ..................C=5, gamma=0.00051, kernel=linear; total time=   0.1s\n",
            "[CV] END ..................C=5, gamma=0.00051, kernel=linear; total time=   0.1s\n",
            "[CV] END .................C=5, gamma=0.00051, kernel=sigmoid; total time=   0.2s\n",
            "[CV] END .................C=5, gamma=0.00051, kernel=sigmoid; total time=   0.2s\n",
            "[CV] END .................C=5, gamma=0.00051, kernel=sigmoid; total time=   0.2s\n",
            "[CV] END .................C=5, gamma=0.00051, kernel=sigmoid; total time=   0.2s\n",
            "[CV] END .................C=5, gamma=0.00051, kernel=sigmoid; total time=   0.2s\n",
            "[CV] END .....................C=6, gamma=0.00049, kernel=rbf; total time=   0.2s\n",
            "[CV] END .....................C=6, gamma=0.00049, kernel=rbf; total time=   0.2s\n",
            "[CV] END .....................C=6, gamma=0.00049, kernel=rbf; total time=   0.2s\n",
            "[CV] END .....................C=6, gamma=0.00049, kernel=rbf; total time=   0.2s\n",
            "[CV] END .....................C=6, gamma=0.00049, kernel=rbf; total time=   0.2s\n",
            "[CV] END ....................C=6, gamma=0.00049, kernel=poly; total time=   0.3s\n",
            "[CV] END ....................C=6, gamma=0.00049, kernel=poly; total time=   0.4s\n",
            "[CV] END ....................C=6, gamma=0.00049, kernel=poly; total time=   0.4s\n",
            "[CV] END ....................C=6, gamma=0.00049, kernel=poly; total time=   0.4s\n",
            "[CV] END ....................C=6, gamma=0.00049, kernel=poly; total time=   0.4s\n",
            "[CV] END ..................C=6, gamma=0.00049, kernel=linear; total time=   0.2s\n",
            "[CV] END ..................C=6, gamma=0.00049, kernel=linear; total time=   0.2s\n",
            "[CV] END ..................C=6, gamma=0.00049, kernel=linear; total time=   0.2s\n",
            "[CV] END ..................C=6, gamma=0.00049, kernel=linear; total time=   0.2s\n",
            "[CV] END ..................C=6, gamma=0.00049, kernel=linear; total time=   0.2s\n",
            "[CV] END .................C=6, gamma=0.00049, kernel=sigmoid; total time=   0.2s\n",
            "[CV] END .................C=6, gamma=0.00049, kernel=sigmoid; total time=   0.2s\n",
            "[CV] END .................C=6, gamma=0.00049, kernel=sigmoid; total time=   0.2s\n",
            "[CV] END .................C=6, gamma=0.00049, kernel=sigmoid; total time=   0.2s\n",
            "[CV] END .................C=6, gamma=0.00049, kernel=sigmoid; total time=   0.2s\n",
            "[CV] END ......................C=6, gamma=0.0005, kernel=rbf; total time=   0.2s\n",
            "[CV] END ......................C=6, gamma=0.0005, kernel=rbf; total time=   0.2s\n",
            "[CV] END ......................C=6, gamma=0.0005, kernel=rbf; total time=   0.2s\n",
            "[CV] END ......................C=6, gamma=0.0005, kernel=rbf; total time=   0.2s\n",
            "[CV] END ......................C=6, gamma=0.0005, kernel=rbf; total time=   0.2s\n",
            "[CV] END .....................C=6, gamma=0.0005, kernel=poly; total time=   0.3s\n",
            "[CV] END .....................C=6, gamma=0.0005, kernel=poly; total time=   0.3s\n",
            "[CV] END .....................C=6, gamma=0.0005, kernel=poly; total time=   0.3s\n",
            "[CV] END .....................C=6, gamma=0.0005, kernel=poly; total time=   0.3s\n",
            "[CV] END .....................C=6, gamma=0.0005, kernel=poly; total time=   0.3s\n",
            "[CV] END ...................C=6, gamma=0.0005, kernel=linear; total time=   0.1s\n",
            "[CV] END ...................C=6, gamma=0.0005, kernel=linear; total time=   0.1s\n",
            "[CV] END ...................C=6, gamma=0.0005, kernel=linear; total time=   0.1s\n",
            "[CV] END ...................C=6, gamma=0.0005, kernel=linear; total time=   0.1s\n",
            "[CV] END ...................C=6, gamma=0.0005, kernel=linear; total time=   0.1s\n",
            "[CV] END ..................C=6, gamma=0.0005, kernel=sigmoid; total time=   0.2s\n",
            "[CV] END ..................C=6, gamma=0.0005, kernel=sigmoid; total time=   0.2s\n",
            "[CV] END ..................C=6, gamma=0.0005, kernel=sigmoid; total time=   0.1s\n",
            "[CV] END ..................C=6, gamma=0.0005, kernel=sigmoid; total time=   0.1s\n",
            "[CV] END ..................C=6, gamma=0.0005, kernel=sigmoid; total time=   0.1s\n",
            "[CV] END .....................C=6, gamma=0.00051, kernel=rbf; total time=   0.2s\n",
            "[CV] END .....................C=6, gamma=0.00051, kernel=rbf; total time=   0.2s\n",
            "[CV] END .....................C=6, gamma=0.00051, kernel=rbf; total time=   0.2s\n",
            "[CV] END .....................C=6, gamma=0.00051, kernel=rbf; total time=   0.2s\n",
            "[CV] END .....................C=6, gamma=0.00051, kernel=rbf; total time=   0.2s\n",
            "[CV] END ....................C=6, gamma=0.00051, kernel=poly; total time=   0.3s\n",
            "[CV] END ....................C=6, gamma=0.00051, kernel=poly; total time=   0.3s\n",
            "[CV] END ....................C=6, gamma=0.00051, kernel=poly; total time=   0.3s\n",
            "[CV] END ....................C=6, gamma=0.00051, kernel=poly; total time=   0.3s\n",
            "[CV] END ....................C=6, gamma=0.00051, kernel=poly; total time=   0.3s\n",
            "[CV] END ..................C=6, gamma=0.00051, kernel=linear; total time=   0.1s\n",
            "[CV] END ..................C=6, gamma=0.00051, kernel=linear; total time=   0.1s\n",
            "[CV] END ..................C=6, gamma=0.00051, kernel=linear; total time=   0.1s\n",
            "[CV] END ..................C=6, gamma=0.00051, kernel=linear; total time=   0.1s\n",
            "[CV] END ..................C=6, gamma=0.00051, kernel=linear; total time=   0.1s\n",
            "[CV] END .................C=6, gamma=0.00051, kernel=sigmoid; total time=   0.2s\n",
            "[CV] END .................C=6, gamma=0.00051, kernel=sigmoid; total time=   0.2s\n",
            "[CV] END .................C=6, gamma=0.00051, kernel=sigmoid; total time=   0.2s\n",
            "[CV] END .................C=6, gamma=0.00051, kernel=sigmoid; total time=   0.2s\n",
            "[CV] END .................C=6, gamma=0.00051, kernel=sigmoid; total time=   0.2s\n"
          ]
        },
        {
          "output_type": "execute_result",
          "data": {
            "text/plain": [
              "GridSearchCV(estimator=SVC(),\n",
              "             param_grid=[{'C': [4, 5, 6], 'gamma': [0.00049, 0.0005, 0.00051],\n",
              "                          'kernel': ['rbf', 'poly', 'linear', 'sigmoid']}],\n",
              "             verbose=2)"
            ],
            "text/html": [
              "<style>#sk-container-id-28 {color: black;background-color: white;}#sk-container-id-28 pre{padding: 0;}#sk-container-id-28 div.sk-toggleable {background-color: white;}#sk-container-id-28 label.sk-toggleable__label {cursor: pointer;display: block;width: 100%;margin-bottom: 0;padding: 0.3em;box-sizing: border-box;text-align: center;}#sk-container-id-28 label.sk-toggleable__label-arrow:before {content: \"▸\";float: left;margin-right: 0.25em;color: #696969;}#sk-container-id-28 label.sk-toggleable__label-arrow:hover:before {color: black;}#sk-container-id-28 div.sk-estimator:hover label.sk-toggleable__label-arrow:before {color: black;}#sk-container-id-28 div.sk-toggleable__content {max-height: 0;max-width: 0;overflow: hidden;text-align: left;background-color: #f0f8ff;}#sk-container-id-28 div.sk-toggleable__content pre {margin: 0.2em;color: black;border-radius: 0.25em;background-color: #f0f8ff;}#sk-container-id-28 input.sk-toggleable__control:checked~div.sk-toggleable__content {max-height: 200px;max-width: 100%;overflow: auto;}#sk-container-id-28 input.sk-toggleable__control:checked~label.sk-toggleable__label-arrow:before {content: \"▾\";}#sk-container-id-28 div.sk-estimator input.sk-toggleable__control:checked~label.sk-toggleable__label {background-color: #d4ebff;}#sk-container-id-28 div.sk-label input.sk-toggleable__control:checked~label.sk-toggleable__label {background-color: #d4ebff;}#sk-container-id-28 input.sk-hidden--visually {border: 0;clip: rect(1px 1px 1px 1px);clip: rect(1px, 1px, 1px, 1px);height: 1px;margin: -1px;overflow: hidden;padding: 0;position: absolute;width: 1px;}#sk-container-id-28 div.sk-estimator {font-family: monospace;background-color: #f0f8ff;border: 1px dotted black;border-radius: 0.25em;box-sizing: border-box;margin-bottom: 0.5em;}#sk-container-id-28 div.sk-estimator:hover {background-color: #d4ebff;}#sk-container-id-28 div.sk-parallel-item::after {content: \"\";width: 100%;border-bottom: 1px solid gray;flex-grow: 1;}#sk-container-id-28 div.sk-label:hover label.sk-toggleable__label {background-color: #d4ebff;}#sk-container-id-28 div.sk-serial::before {content: \"\";position: absolute;border-left: 1px solid gray;box-sizing: border-box;top: 0;bottom: 0;left: 50%;z-index: 0;}#sk-container-id-28 div.sk-serial {display: flex;flex-direction: column;align-items: center;background-color: white;padding-right: 0.2em;padding-left: 0.2em;position: relative;}#sk-container-id-28 div.sk-item {position: relative;z-index: 1;}#sk-container-id-28 div.sk-parallel {display: flex;align-items: stretch;justify-content: center;background-color: white;position: relative;}#sk-container-id-28 div.sk-item::before, #sk-container-id-28 div.sk-parallel-item::before {content: \"\";position: absolute;border-left: 1px solid gray;box-sizing: border-box;top: 0;bottom: 0;left: 50%;z-index: -1;}#sk-container-id-28 div.sk-parallel-item {display: flex;flex-direction: column;z-index: 1;position: relative;background-color: white;}#sk-container-id-28 div.sk-parallel-item:first-child::after {align-self: flex-end;width: 50%;}#sk-container-id-28 div.sk-parallel-item:last-child::after {align-self: flex-start;width: 50%;}#sk-container-id-28 div.sk-parallel-item:only-child::after {width: 0;}#sk-container-id-28 div.sk-dashed-wrapped {border: 1px dashed gray;margin: 0 0.4em 0.5em 0.4em;box-sizing: border-box;padding-bottom: 0.4em;background-color: white;}#sk-container-id-28 div.sk-label label {font-family: monospace;font-weight: bold;display: inline-block;line-height: 1.2em;}#sk-container-id-28 div.sk-label-container {text-align: center;}#sk-container-id-28 div.sk-container {/* jupyter's `normalize.less` sets `[hidden] { display: none; }` but bootstrap.min.css set `[hidden] { display: none !important; }` so we also need the `!important` here to be able to override the default hidden behavior on the sphinx rendered scikit-learn.org. See: https://github.com/scikit-learn/scikit-learn/issues/21755 */display: inline-block !important;position: relative;}#sk-container-id-28 div.sk-text-repr-fallback {display: none;}</style><div id=\"sk-container-id-28\" class=\"sk-top-container\"><div class=\"sk-text-repr-fallback\"><pre>GridSearchCV(estimator=SVC(),\n",
              "             param_grid=[{&#x27;C&#x27;: [4, 5, 6], &#x27;gamma&#x27;: [0.00049, 0.0005, 0.00051],\n",
              "                          &#x27;kernel&#x27;: [&#x27;rbf&#x27;, &#x27;poly&#x27;, &#x27;linear&#x27;, &#x27;sigmoid&#x27;]}],\n",
              "             verbose=2)</pre><b>In a Jupyter environment, please rerun this cell to show the HTML representation or trust the notebook. <br />On GitHub, the HTML representation is unable to render, please try loading this page with nbviewer.org.</b></div><div class=\"sk-container\" hidden><div class=\"sk-item sk-dashed-wrapped\"><div class=\"sk-label-container\"><div class=\"sk-label sk-toggleable\"><input class=\"sk-toggleable__control sk-hidden--visually\" id=\"sk-estimator-id-44\" type=\"checkbox\" ><label for=\"sk-estimator-id-44\" class=\"sk-toggleable__label sk-toggleable__label-arrow\">GridSearchCV</label><div class=\"sk-toggleable__content\"><pre>GridSearchCV(estimator=SVC(),\n",
              "             param_grid=[{&#x27;C&#x27;: [4, 5, 6], &#x27;gamma&#x27;: [0.00049, 0.0005, 0.00051],\n",
              "                          &#x27;kernel&#x27;: [&#x27;rbf&#x27;, &#x27;poly&#x27;, &#x27;linear&#x27;, &#x27;sigmoid&#x27;]}],\n",
              "             verbose=2)</pre></div></div></div><div class=\"sk-parallel\"><div class=\"sk-parallel-item\"><div class=\"sk-item\"><div class=\"sk-label-container\"><div class=\"sk-label sk-toggleable\"><input class=\"sk-toggleable__control sk-hidden--visually\" id=\"sk-estimator-id-45\" type=\"checkbox\" ><label for=\"sk-estimator-id-45\" class=\"sk-toggleable__label sk-toggleable__label-arrow\">estimator: SVC</label><div class=\"sk-toggleable__content\"><pre>SVC()</pre></div></div></div><div class=\"sk-serial\"><div class=\"sk-item\"><div class=\"sk-estimator sk-toggleable\"><input class=\"sk-toggleable__control sk-hidden--visually\" id=\"sk-estimator-id-46\" type=\"checkbox\" ><label for=\"sk-estimator-id-46\" class=\"sk-toggleable__label sk-toggleable__label-arrow\">SVC</label><div class=\"sk-toggleable__content\"><pre>SVC()</pre></div></div></div></div></div></div></div></div></div></div>"
            ]
          },
          "metadata": {},
          "execution_count": 70
        }
      ]
    },
    {
      "cell_type": "markdown",
      "metadata": {
        "id": "MUs79EoI7Y-e"
      },
      "source": [
        "### Results of grid search\n",
        "\n",
        "You can examine the best values, and best score."
      ]
    },
    {
      "cell_type": "code",
      "source": [
        "grid_cv.best_estimator_"
      ],
      "metadata": {
        "colab": {
          "base_uri": "https://localhost:8080/",
          "height": 74
        },
        "id": "y6TzL2fqfhKP",
        "outputId": "19b306ad-6dd7-4491-da3f-d55837d8db80"
      },
      "execution_count": 68,
      "outputs": [
        {
          "output_type": "execute_result",
          "data": {
            "text/plain": [
              "SVC(C=5, gamma=0.0005, kernel='sigmoid')"
            ],
            "text/html": [
              "<style>#sk-container-id-27 {color: black;background-color: white;}#sk-container-id-27 pre{padding: 0;}#sk-container-id-27 div.sk-toggleable {background-color: white;}#sk-container-id-27 label.sk-toggleable__label {cursor: pointer;display: block;width: 100%;margin-bottom: 0;padding: 0.3em;box-sizing: border-box;text-align: center;}#sk-container-id-27 label.sk-toggleable__label-arrow:before {content: \"▸\";float: left;margin-right: 0.25em;color: #696969;}#sk-container-id-27 label.sk-toggleable__label-arrow:hover:before {color: black;}#sk-container-id-27 div.sk-estimator:hover label.sk-toggleable__label-arrow:before {color: black;}#sk-container-id-27 div.sk-toggleable__content {max-height: 0;max-width: 0;overflow: hidden;text-align: left;background-color: #f0f8ff;}#sk-container-id-27 div.sk-toggleable__content pre {margin: 0.2em;color: black;border-radius: 0.25em;background-color: #f0f8ff;}#sk-container-id-27 input.sk-toggleable__control:checked~div.sk-toggleable__content {max-height: 200px;max-width: 100%;overflow: auto;}#sk-container-id-27 input.sk-toggleable__control:checked~label.sk-toggleable__label-arrow:before {content: \"▾\";}#sk-container-id-27 div.sk-estimator input.sk-toggleable__control:checked~label.sk-toggleable__label {background-color: #d4ebff;}#sk-container-id-27 div.sk-label input.sk-toggleable__control:checked~label.sk-toggleable__label {background-color: #d4ebff;}#sk-container-id-27 input.sk-hidden--visually {border: 0;clip: rect(1px 1px 1px 1px);clip: rect(1px, 1px, 1px, 1px);height: 1px;margin: -1px;overflow: hidden;padding: 0;position: absolute;width: 1px;}#sk-container-id-27 div.sk-estimator {font-family: monospace;background-color: #f0f8ff;border: 1px dotted black;border-radius: 0.25em;box-sizing: border-box;margin-bottom: 0.5em;}#sk-container-id-27 div.sk-estimator:hover {background-color: #d4ebff;}#sk-container-id-27 div.sk-parallel-item::after {content: \"\";width: 100%;border-bottom: 1px solid gray;flex-grow: 1;}#sk-container-id-27 div.sk-label:hover label.sk-toggleable__label {background-color: #d4ebff;}#sk-container-id-27 div.sk-serial::before {content: \"\";position: absolute;border-left: 1px solid gray;box-sizing: border-box;top: 0;bottom: 0;left: 50%;z-index: 0;}#sk-container-id-27 div.sk-serial {display: flex;flex-direction: column;align-items: center;background-color: white;padding-right: 0.2em;padding-left: 0.2em;position: relative;}#sk-container-id-27 div.sk-item {position: relative;z-index: 1;}#sk-container-id-27 div.sk-parallel {display: flex;align-items: stretch;justify-content: center;background-color: white;position: relative;}#sk-container-id-27 div.sk-item::before, #sk-container-id-27 div.sk-parallel-item::before {content: \"\";position: absolute;border-left: 1px solid gray;box-sizing: border-box;top: 0;bottom: 0;left: 50%;z-index: -1;}#sk-container-id-27 div.sk-parallel-item {display: flex;flex-direction: column;z-index: 1;position: relative;background-color: white;}#sk-container-id-27 div.sk-parallel-item:first-child::after {align-self: flex-end;width: 50%;}#sk-container-id-27 div.sk-parallel-item:last-child::after {align-self: flex-start;width: 50%;}#sk-container-id-27 div.sk-parallel-item:only-child::after {width: 0;}#sk-container-id-27 div.sk-dashed-wrapped {border: 1px dashed gray;margin: 0 0.4em 0.5em 0.4em;box-sizing: border-box;padding-bottom: 0.4em;background-color: white;}#sk-container-id-27 div.sk-label label {font-family: monospace;font-weight: bold;display: inline-block;line-height: 1.2em;}#sk-container-id-27 div.sk-label-container {text-align: center;}#sk-container-id-27 div.sk-container {/* jupyter's `normalize.less` sets `[hidden] { display: none; }` but bootstrap.min.css set `[hidden] { display: none !important; }` so we also need the `!important` here to be able to override the default hidden behavior on the sphinx rendered scikit-learn.org. See: https://github.com/scikit-learn/scikit-learn/issues/21755 */display: inline-block !important;position: relative;}#sk-container-id-27 div.sk-text-repr-fallback {display: none;}</style><div id=\"sk-container-id-27\" class=\"sk-top-container\"><div class=\"sk-text-repr-fallback\"><pre>SVC(C=5, gamma=0.0005, kernel=&#x27;sigmoid&#x27;)</pre><b>In a Jupyter environment, please rerun this cell to show the HTML representation or trust the notebook. <br />On GitHub, the HTML representation is unable to render, please try loading this page with nbviewer.org.</b></div><div class=\"sk-container\" hidden><div class=\"sk-item\"><div class=\"sk-estimator sk-toggleable\"><input class=\"sk-toggleable__control sk-hidden--visually\" id=\"sk-estimator-id-43\" type=\"checkbox\" checked><label for=\"sk-estimator-id-43\" class=\"sk-toggleable__label sk-toggleable__label-arrow\">SVC</label><div class=\"sk-toggleable__content\"><pre>SVC(C=5, gamma=0.0005, kernel=&#x27;sigmoid&#x27;)</pre></div></div></div></div></div>"
            ]
          },
          "metadata": {},
          "execution_count": 68
        }
      ]
    },
    {
      "cell_type": "code",
      "source": [
        "grid_cv.best_score_"
      ],
      "metadata": {
        "colab": {
          "base_uri": "https://localhost:8080/"
        },
        "id": "Dj2UyzPzfkyA",
        "outputId": "53a0f34b-cd44-4250-ca80-8c6ff52e493d"
      },
      "execution_count": 69,
      "outputs": [
        {
          "output_type": "execute_result",
          "data": {
            "text/plain": [
              "0.8779999999999999"
            ]
          },
          "metadata": {},
          "execution_count": 69
        }
      ]
    },
    {
      "cell_type": "markdown",
      "metadata": {
        "id": "QK8LT9a77Y-e"
      },
      "source": [
        "### Final results\n",
        "\n",
        "Using the best estimator from your series of grid searches, train on all the scaled data.\n",
        "\n",
        "Now test your final model on the testing data."
      ]
    },
    {
      "cell_type": "code",
      "source": [
        "grid_cv.best_estimator_.fit(X_train_scaled, y_train)"
      ],
      "metadata": {
        "colab": {
          "base_uri": "https://localhost:8080/",
          "height": 74
        },
        "id": "RmiVJIQIf9Hp",
        "outputId": "b90f88e6-489c-47ed-ca9d-5292ec3e8b1f"
      },
      "execution_count": 65,
      "outputs": [
        {
          "output_type": "execute_result",
          "data": {
            "text/plain": [
              "SVC(C=5, gamma=0.0005, kernel='sigmoid')"
            ],
            "text/html": [
              "<style>#sk-container-id-25 {color: black;background-color: white;}#sk-container-id-25 pre{padding: 0;}#sk-container-id-25 div.sk-toggleable {background-color: white;}#sk-container-id-25 label.sk-toggleable__label {cursor: pointer;display: block;width: 100%;margin-bottom: 0;padding: 0.3em;box-sizing: border-box;text-align: center;}#sk-container-id-25 label.sk-toggleable__label-arrow:before {content: \"▸\";float: left;margin-right: 0.25em;color: #696969;}#sk-container-id-25 label.sk-toggleable__label-arrow:hover:before {color: black;}#sk-container-id-25 div.sk-estimator:hover label.sk-toggleable__label-arrow:before {color: black;}#sk-container-id-25 div.sk-toggleable__content {max-height: 0;max-width: 0;overflow: hidden;text-align: left;background-color: #f0f8ff;}#sk-container-id-25 div.sk-toggleable__content pre {margin: 0.2em;color: black;border-radius: 0.25em;background-color: #f0f8ff;}#sk-container-id-25 input.sk-toggleable__control:checked~div.sk-toggleable__content {max-height: 200px;max-width: 100%;overflow: auto;}#sk-container-id-25 input.sk-toggleable__control:checked~label.sk-toggleable__label-arrow:before {content: \"▾\";}#sk-container-id-25 div.sk-estimator input.sk-toggleable__control:checked~label.sk-toggleable__label {background-color: #d4ebff;}#sk-container-id-25 div.sk-label input.sk-toggleable__control:checked~label.sk-toggleable__label {background-color: #d4ebff;}#sk-container-id-25 input.sk-hidden--visually {border: 0;clip: rect(1px 1px 1px 1px);clip: rect(1px, 1px, 1px, 1px);height: 1px;margin: -1px;overflow: hidden;padding: 0;position: absolute;width: 1px;}#sk-container-id-25 div.sk-estimator {font-family: monospace;background-color: #f0f8ff;border: 1px dotted black;border-radius: 0.25em;box-sizing: border-box;margin-bottom: 0.5em;}#sk-container-id-25 div.sk-estimator:hover {background-color: #d4ebff;}#sk-container-id-25 div.sk-parallel-item::after {content: \"\";width: 100%;border-bottom: 1px solid gray;flex-grow: 1;}#sk-container-id-25 div.sk-label:hover label.sk-toggleable__label {background-color: #d4ebff;}#sk-container-id-25 div.sk-serial::before {content: \"\";position: absolute;border-left: 1px solid gray;box-sizing: border-box;top: 0;bottom: 0;left: 50%;z-index: 0;}#sk-container-id-25 div.sk-serial {display: flex;flex-direction: column;align-items: center;background-color: white;padding-right: 0.2em;padding-left: 0.2em;position: relative;}#sk-container-id-25 div.sk-item {position: relative;z-index: 1;}#sk-container-id-25 div.sk-parallel {display: flex;align-items: stretch;justify-content: center;background-color: white;position: relative;}#sk-container-id-25 div.sk-item::before, #sk-container-id-25 div.sk-parallel-item::before {content: \"\";position: absolute;border-left: 1px solid gray;box-sizing: border-box;top: 0;bottom: 0;left: 50%;z-index: -1;}#sk-container-id-25 div.sk-parallel-item {display: flex;flex-direction: column;z-index: 1;position: relative;background-color: white;}#sk-container-id-25 div.sk-parallel-item:first-child::after {align-self: flex-end;width: 50%;}#sk-container-id-25 div.sk-parallel-item:last-child::after {align-self: flex-start;width: 50%;}#sk-container-id-25 div.sk-parallel-item:only-child::after {width: 0;}#sk-container-id-25 div.sk-dashed-wrapped {border: 1px dashed gray;margin: 0 0.4em 0.5em 0.4em;box-sizing: border-box;padding-bottom: 0.4em;background-color: white;}#sk-container-id-25 div.sk-label label {font-family: monospace;font-weight: bold;display: inline-block;line-height: 1.2em;}#sk-container-id-25 div.sk-label-container {text-align: center;}#sk-container-id-25 div.sk-container {/* jupyter's `normalize.less` sets `[hidden] { display: none; }` but bootstrap.min.css set `[hidden] { display: none !important; }` so we also need the `!important` here to be able to override the default hidden behavior on the sphinx rendered scikit-learn.org. See: https://github.com/scikit-learn/scikit-learn/issues/21755 */display: inline-block !important;position: relative;}#sk-container-id-25 div.sk-text-repr-fallback {display: none;}</style><div id=\"sk-container-id-25\" class=\"sk-top-container\"><div class=\"sk-text-repr-fallback\"><pre>SVC(C=5, gamma=0.0005, kernel=&#x27;sigmoid&#x27;)</pre><b>In a Jupyter environment, please rerun this cell to show the HTML representation or trust the notebook. <br />On GitHub, the HTML representation is unable to render, please try loading this page with nbviewer.org.</b></div><div class=\"sk-container\" hidden><div class=\"sk-item\"><div class=\"sk-estimator sk-toggleable\"><input class=\"sk-toggleable__control sk-hidden--visually\" id=\"sk-estimator-id-39\" type=\"checkbox\" checked><label for=\"sk-estimator-id-39\" class=\"sk-toggleable__label sk-toggleable__label-arrow\">SVC</label><div class=\"sk-toggleable__content\"><pre>SVC(C=5, gamma=0.0005, kernel=&#x27;sigmoid&#x27;)</pre></div></div></div></div></div>"
            ]
          },
          "metadata": {},
          "execution_count": 65
        }
      ]
    },
    {
      "cell_type": "code",
      "source": [
        "y_pred = grid_cv.best_estimator_.predict(X_train_scaled)\n",
        "accuracy_score(y_train, y_pred)"
      ],
      "metadata": {
        "colab": {
          "base_uri": "https://localhost:8080/"
        },
        "id": "FCTRkCJ-f9KA",
        "outputId": "f282f336-d1d2-4b66-8dba-586359a21484"
      },
      "execution_count": 66,
      "outputs": [
        {
          "output_type": "execute_result",
          "data": {
            "text/plain": [
              "0.94455"
            ]
          },
          "metadata": {},
          "execution_count": 66
        }
      ]
    }
  ],
  "metadata": {
    "kernelspec": {
      "display_name": "Python 3",
      "language": "python",
      "name": "python3"
    },
    "language_info": {
      "codemirror_mode": {
        "name": "ipython",
        "version": 3
      },
      "file_extension": ".py",
      "mimetype": "text/x-python",
      "name": "python",
      "nbconvert_exporter": "python",
      "pygments_lexer": "ipython3",
      "version": "3.8.3"
    },
    "colab": {
      "provenance": []
    }
  },
  "nbformat": 4,
  "nbformat_minor": 0
}